{
 "cells": [
  {
   "cell_type": "markdown",
   "metadata": {
    "_cell_guid": "8c7dd49e-3cfe-4d2d-b074-7dafab08b569",
    "_uuid": "58e6d280-585b-4b45-bd4f-fc007feed105"
   },
   "source": [
    "**Before starting**\n",
    "# \n",
    "# I'm still stuying data science, so it could be some errors during the interpretation and would be better techiniques to do all plotting. Another important thing is that english is not my native language, so it could be, also errors in the writting. For all that, please feel free to share all feedback you consider to improve, I'll really appreciate it."
   ]
  },
  {
   "cell_type": "markdown",
   "metadata": {
    "_cell_guid": "2fa9791b-1e80-4c9c-99be-4560cbbfbc0e",
    "_uuid": "f18c1186-1375-4b9b-bbb0-c6816ca66803"
   },
   "source": [
    "A survey is a way to know a population, asking some questions about their personal interests. When a survey is done we'll get a results that'll show us some interesting information about our interest population.\n",
    "# \n",
    "# The porpouse of this analysis lies on describe the distribution of some interest variables as age, gender and major title. Also, and this is a personal preference, I'd like to show how object oriented prorgamming works in R making use of some basic instructions.\n",
    "# \n",
    "# In this case, we're going to use R for analysis."
   ]
  },
  {
   "cell_type": "markdown",
   "metadata": {
    "_cell_guid": "b6f7e2c1-2a7e-49ea-a17f-966f0930557f",
    "_uuid": "591a97ba-6898-468f-8d78-7850d53e668a"
   },
   "source": [
    "**Preparing the data**\n",
    "# \n",
    "# First, we'll open the CSV file and convert it into a data frame using the following instructions."
   ]
  },
  {
   "cell_type": "code",
   "execution_count": 0,
   "metadata": {
    "_cell_guid": "47be8336-258b-4080-a76f-2feda9ccc8d9",
    "_uuid": "de8fd6bb-3da5-4272-aa02-749b1388ebb0"
   },
   "outputs": [],
   "source": [
    "csv <- read.csv('../input/multipleChoiceResponses.csv')\n",
    "df <- as.data.frame(csv)"
   ]
  },
  {
   "cell_type": "markdown",
   "metadata": {
    "_cell_guid": "1a23a724-ae1a-4632-8128-1ba9bfe3a46a",
    "_uuid": "69ec25c8-4b42-4e24-82b8-bd3ce388eca1"
   },
   "source": [
    "After the conversion, we're going to select only our desired variables (the ones that we mention above in the objective). To achieve this, we 'll use a R library called DPLYR and use the following instructions."
   ]
  },
  {
   "cell_type": "code",
   "execution_count": 0,
   "metadata": {
    "_cell_guid": "a0c36e37-5adf-4171-9e0c-94bd07859f70",
    "_uuid": "d306fe15-9b4c-4cb1-b0c0-e3b6a74892cf"
   },
   "outputs": [],
   "source": [
    "library('dplyr')\n",
    "df <- df %>% select(\n",
    "    gender    = Q1,\n",
    "    age       = Q2,\n",
    "    major     = Q5)"
   ]
  },
  {
   "cell_type": "markdown",
   "metadata": {
    "_cell_guid": "2405f013-97e1-4e0d-a9c4-af8127d4f519",
    "_uuid": "8a905dd0-f7a1-4e68-b740-5e3fec15cc21"
   },
   "source": [
    "From this point beyond, data preparation and visualization is going to be performed.\n",
    "# So, we'll create a class definition to start using R object oriented programming.\n",
    "# \n",
    "# To define a class in R we have three different options\n",
    "# 1. S3: This OO programming make use of generic function who decide which method to call. For further explanation and examples, please refer to http://adv-r.had.co.nz/S3.html\n",
    "# 2. S4: it looks like the S3 but change in the way it's implemented. As its formal definition and a multiple dispatch. For futher explanaition and exmples, please refer to http://adv-r.had.co.nz/S4.html\n",
    "# 3. R5: It's similarly to other OO language such as Java or C#, because of the usage of message-passing. For futher explanaition and exmples, please refer to http://adv-r.had.co.nz/R5.html\n",
    "# \n",
    "# \n",
    "# In this case we'll use R5. So, to start we define a class as follows"
   ]
  },
  {
   "cell_type": "code",
   "execution_count": 0,
   "metadata": {
    "_cell_guid": "165fe015-067b-43bf-86d7-8f3898e41ca5",
    "_uuid": "832f7486-b90f-40da-8a32-8c9a17292ec5"
   },
   "outputs": [],
   "source": [
    "# Class definition\n",
    "num <- setRefClass(\n",
    "    \"num\", # Name of referenced class\n",
    "    #------- Attributes definition -------#\n",
    "    fields = list(df = \"data.frame\", var_num = \"data.frame\"), # Fields used in the method\n",
    "    methods = list( # Methods definition\n",
    "        group_values = function(var){ # Method name (in fact, it's a function)\n",
    "            var_num <<- df %>% count(df[[var]]) # Create a resume of the attribute name\n",
    "            colnames(var_num) <<- c(var, \"n\") # Replace the name of the columns\n",
    "            var_num <<- var_num %>% filter(n > 2) # Remove the first option of the data frame\n",
    "        }\n",
    "    )\n",
    ")"
   ]
  },
  {
   "cell_type": "markdown",
   "metadata": {
    "_cell_guid": "f7b87264-ae02-4ce3-8c9e-7da568774dcf",
    "_uuid": "edf5109d-c8d8-40a1-8ec0-fddb59b9749e"
   },
   "source": [
    "Once we've got the class definition, it's time to create the object and we can start with the preparation before visualization.\n",
    "# To do that, we have the following code"
   ]
  },
  {
   "cell_type": "code",
   "execution_count": 0,
   "metadata": {
    "_cell_guid": "4ce97669-9b14-4a73-9b3b-949249767a1e",
    "_uuid": "ea59d555-bd0d-405e-8d89-0ad9ca1a0096"
   },
   "outputs": [],
   "source": [
    "# This is the constructor, we pass the values for field declared in the class definition.\n",
    "num_father <- num$new(df = df)\n",
    "# We start the preparation for all interested variables\n",
    "for (col_name in colnames(df)){\n",
    "    assign(paste(\"num.\", col_name, sep = \"\"), num_father$group_values(col_name))\n",
    "}"
   ]
  },
  {
   "cell_type": "markdown",
   "metadata": {
    "_cell_guid": "3669c59a-8d8d-46ca-8bdb-f7e1206a2395",
    "_uuid": "8a749ba1-dafd-4a44-8977-673d1b98cedd"
   },
   "source": [
    "What we do? We create a dynamic variable that starts with \"num.\" and continues with data frame column's name. The variable's value is gotten from class method group_value. Doing this we ensure that every variable of our interest will be processed exactly the same as the othes and just need to be added in the select did it before.\n",
    "# A disadvantage of this technique is the mentioned above, we processed every variable exactly the same that could be a problem if we've got another kind of preparation.\n",
    "# \n",
    "# When the preparation is ready, we can start with the visualization.\n",
    "# \n",
    "# **Visualization**\n",
    "# \n",
    "# To do it, we're going to use another R library called plotly, it'll help us to create diagrams with minimum lines of code,  follow we describe it usage.\n",
    "# First, we call it as bellow."
   ]
  },
  {
   "cell_type": "code",
   "execution_count": 0,
   "metadata": {
    "_cell_guid": "08916048-6d9a-469a-9e46-7bd5b41ac2db",
    "_uuid": "513d08db-89b1-42f1-b6e5-9d96f99380cf"
   },
   "outputs": [],
   "source": [
    "library(plotly)\n",
    "library(ggplot2)"
   ]
  },
  {
   "cell_type": "markdown",
   "metadata": {
    "_cell_guid": "f366c546-68da-4c5d-941f-ffc7a072f6c0",
    "_uuid": "4a5a0b2f-64b4-42b6-9d12-896db4899026"
   },
   "source": [
    "**About Age**\n",
    "# \n",
    "# Now, the first visualization would be age (because is the first in the data), also I'll give an interpretation of it. To achieve this, we use the following code."
   ]
  },
  {
   "cell_type": "code",
   "execution_count": 0,
   "metadata": {
    "_cell_guid": "56c1873e-fb1b-4a00-baab-d633a5e6202a",
    "_kg_hide-input": false,
    "_kg_hide-output": false,
    "_uuid": "13a13db2-42e8-40de-82ea-92550a0f1402",
    "scrolled": false
   },
   "outputs": [],
   "source": [
    "bar_age <- plot_ly(\n",
    "        num.age,\n",
    "        name = \"Age\",\n",
    "        x = ~ age,\n",
    "        y = ~ n,\n",
    "        type = 'bar',\n",
    "        marker = list(\n",
    "            color = 'rgb(158,202,225)',\n",
    "            line = list(color = 'rgb(8,48,107)',\n",
    "                        width = 1.5)\n",
    "        )\n",
    ") %>% layout (\n",
    "        title = 'Ages',\n",
    "        xaxis = list(title = \"\"),\n",
    "        yaxis = list(title = \"\")\n",
    ")\n",
    "box_age <- plot_ly(\n",
    "        num.age,\n",
    "        name = \"Age\",\n",
    "        x = ~ n,\n",
    "        type = 'box'\n",
    ")\n",
    "subplot(bar_age, box_age, nrows = 2)"
   ]
  },
  {
   "cell_type": "markdown",
   "metadata": {
    "_cell_guid": "9e0e4684-bcb1-4a61-9427-59da96bce41a",
    "_uuid": "3d4c7001-8308-4ead-861b-b643184657b5"
   },
   "source": [
    "An important part of describing data is the interpretation, we should show graphics, numbers, maps, etc. but them lose sense without an interpretation.\n",
    "# \n",
    "# So, the graphic below corresponds of the distribution of ages in the survey population. We appreciate a rigth-skewed distribution, knowing its distributions we can get it mean, meadian and mode.\n",
    "# Its mode, the most frequently value, is 25 and 29, it means that most of the people interested in data science is between 25 and 29 years old.\n",
    "# Its median, the central value, its located between 44 to 45.\n",
    "# And the arithmetic mean, the average of the sample, its located between the ranges 35 to 39 and 40 to 44.\n",
    "# To reinforce this values, a box graph is also plotted."
   ]
  },
  {
   "cell_type": "markdown",
   "metadata": {
    "_cell_guid": "f8ef7b54-37df-4b73-983c-e686e40bbea9",
    "_uuid": "cf153533-acc0-44c0-8814-79ed8a004f6a"
   },
   "source": [
    "![newplot.png](attachment:newplot.png)"
   ]
  },
  {
   "cell_type": "markdown",
   "metadata": {
    "_cell_guid": "964131a3-f40e-4876-86e2-85111cb47547",
    "_uuid": "d03b3fbd-d52e-479e-bf79-d7d46c36ee9f"
   },
   "source": [
    "**About major**\n",
    "# \n",
    "# After age, we proceed to major title visualization. For this case, we plot the percentage of major titles in the survey.\n",
    "# As the previous one, we'll make use of plotly library to perform a pie chart display.\n",
    "# For major title we found a empty value, this will be interpreted as not given answer, in the code below we'll do that by looking for those values and replace them with Not answer label.\n",
    "# Once that replacement is ready, pie chart would be done."
   ]
  },
  {
   "cell_type": "code",
   "execution_count": 0,
   "metadata": {
    "_cell_guid": "0fb559a0-9bcf-4cc9-a346-ca56133ac9ae",
    "_uuid": "588c22d9-b0d8-412d-92b0-73f7c7d59f1c"
   },
   "outputs": [],
   "source": [
    "num.major$major <- as.character(num.major$major)\n",
    "num.major$major[num.major$major == ''] <- as.character(\"Not answer\")"
   ]
  },
  {
   "cell_type": "code",
   "execution_count": 0,
   "metadata": {
    "_cell_guid": "c8d94d81-66e9-4648-bbf1-307fe2a5b176",
    "_uuid": "b36b48d9-c752-4a4b-85a1-0f1f136b3a25",
    "scrolled": true
   },
   "outputs": [],
   "source": [
    "plot_ly(num.major,\n",
    "        labels = ~ major,\n",
    "        values = ~ n,\n",
    "        type = 'pie'\n",
    ") %>% layout(\n",
    "    title = \"Major Titles\",\n",
    "    xaxis = list(\n",
    "        showgrid = FALSE,\n",
    "        zeroline = FALSE,\n",
    "        showticklabels = FALSE\n",
    "    ),\n",
    "    yaxis = list(\n",
    "        showgrid = FALSE,\n",
    "        zeroline = FALSE,\n",
    "        showticklabels = FALSE\n",
    "    )\n",
    "  )"
   ]
  },
  {
   "cell_type": "markdown",
   "metadata": {
    "_cell_guid": "c23035a3-378a-4bd2-8131-f34a3bbb8504",
    "_uuid": "1472d1a5-0002-4238-b59b-6ad65ea9eba3"
   },
   "source": [
    "![newplot%20%285%29.png](attachment:newplot%20%285%29.png)"
   ]
  },
  {
   "cell_type": "markdown",
   "metadata": {
    "_cell_guid": "5e331250-c389-4240-9a45-a338dd278fc2",
    "_uuid": "1d068e28-9d34-4d54-bc0b-ddc83bbce82d"
   },
   "source": [
    "This pie chart represents the percentage of major titles whom participate on the survey, as we can see, most of the participants are computer science or related, followed by engineers and mathematics or statistics."
   ]
  },
  {
   "cell_type": "markdown",
   "metadata": {
    "_cell_guid": "2d073534-2c01-4c90-b056-439d16ab9986",
    "_uuid": "b51b5726-11b1-482b-b65e-0a297d0a04cb"
   },
   "source": [
    "**About gender**\n",
    "# \n",
    "# Our next stop is gender, in the following pie chart will be displayed the particiants' gender percentage. We can appreciate that 1 of 6 particiants are women. That means the percentage of women who participates on activities related with science are continouslly growing."
   ]
  },
  {
   "cell_type": "code",
   "execution_count": 0,
   "metadata": {
    "_cell_guid": "fd81b9f2-a60e-4f48-9523-2790fca3583a",
    "_uuid": "9528a18e-1f2a-4dc5-9cff-80f37efc39de"
   },
   "outputs": [],
   "source": [
    "plot_ly(num.gender,\n",
    "        labels = ~ gender,\n",
    "        values = ~ n,\n",
    "        type = 'pie') %>%\n",
    "layout(\n",
    "    title = \"Gender\",\n",
    "    xaxis = list(\n",
    "      showgrid = FALSE,\n",
    "      zeroline = FALSE,\n",
    "      showticklabels = FALSE\n",
    "    ),\n",
    "    yaxis = list(\n",
    "      showgrid = FALSE,\n",
    "      zeroline = FALSE,\n",
    "      showticklabels = FALSE\n",
    "    )\n",
    "  )"
   ]
  },
  {
   "cell_type": "markdown",
   "metadata": {
    "_cell_guid": "036daf70-6577-4744-a2cd-fd14b6468a51",
    "_uuid": "0bab8131-bf76-4e27-a365-8d32d4ebbc7a"
   },
   "source": [
    "![newplot%20%283%29.png](attachment:newplot%20%283%29.png)"
   ]
  },
  {
   "cell_type": "markdown",
   "metadata": {
    "_cell_guid": "a723416c-376a-4ffd-b2dd-e55ee47bd3be",
    "_uuid": "7bde6634-67fd-4b24-96bd-a154e4a6cc0e"
   },
   "source": [
    "**Resume**\n",
    "# \n",
    "# We're going to make a brief resume combining these three results to give a deeper interpretation.\n",
    "# First, we've got to create a data frame with just two variables, age and gender."
   ]
  },
  {
   "cell_type": "code",
   "execution_count": 0,
   "metadata": {
    "_cell_guid": "4e89e025-d3fe-46fd-a12f-e4027aedb341",
    "_uuid": "fc55fdaf-1097-4707-8daf-f43db3a3e954",
    "scrolled": true
   },
   "outputs": [],
   "source": [
    "df2resume <- df%>%select(age,gender)\n",
    "df2resume <- df2resume[-1,]\n",
    "resume <- df2resume %>% \n",
    "            group_by(age,gender) %>% \n",
    "            summarise(total = n()) %>%\n",
    "            mutate(countT = sum(total)) %>%\n",
    "            group_by(age, add=TRUE) %>%\n",
    "            mutate(percentage = paste0(round(100*total/countT,2),'%')) %>%\n",
    "            arrange(age,total,gender)\n",
    "trace <- list( marker = list(\n",
    "    color = resume$total,\n",
    "    colorbar = list(title = \"carat\"), \n",
    "    colorscale = list(c(0, \"#440154\"),list(0.111111111111, \"#482878\"),list(0.222222222222, \"#3E4A89\"),list(0.333333333333, \"#31688E\"),list(0.444444444444, \"#26838E\"),list(0.555555555556, \"#1F9D89\"),list(0.666666666667, \"#35B779\"),list(0.777777777778, \"#6CCE59\"),list(0.888888888889, \"#B4DD2C\"),list(1, \"#FDE725\")), \n",
    "    size = resume$total,\n",
    "    sizemode = \"area\"\n",
    "  ),\n",
    "  mode = \"markers\",   \n",
    "  type = \"scatter\")\n",
    "\n",
    "plot_ly() %>% add_trace(x = resume$age, y = resume$gender, \n",
    "                        marker = trace$marker, \n",
    "                        mode = trace$mode,\n",
    "                        type = trace$type)"
   ]
  },
  {
   "cell_type": "markdown",
   "metadata": {
    "_cell_guid": "4d69bedd-910e-4a2f-a813-3496c90c71aa",
    "_uuid": "015743a9-c71a-4dfc-b662-4f4854f3d4ff"
   },
   "source": [
    "![newplot%20%282%29.png](attachment:newplot%20%282%29.png)"
   ]
  },
  {
   "cell_type": "markdown",
   "metadata": {
    "_cell_guid": "5c05ac21-fb66-48a5-a813-2eb0cfdc8c8a",
    "_uuid": "fd612f65-4a5a-4a90-820e-0cbb3132aac8"
   },
   "source": [
    "The scatter graph above shows, by area, the size of each population. As we can se, most of the population have between 25 and 29 years old. Also, we get a representation of how major titles are distributed amoung the gender of the population."
   ]
  },
  {
   "cell_type": "code",
   "execution_count": 0,
   "metadata": {
    "_cell_guid": "de5968aa-58e2-4941-971e-798540fddf3b",
    "_uuid": "69c00aea-1b33-4579-a2f7-b0f5d9504b88"
   },
   "outputs": [],
   "source": [
    "df2resume_1 <- df%>%select(gender, major)\n",
    "df2resume_1 <- df2resume_1[-1,]\n",
    "df2resume_1$major <- as.character(df2resume_1$major)\n",
    "df2resume_1$major[df2resume_1$major == ''] <- as.character(\"Not answer\")\n",
    "resume_1 <- df2resume_1 %>% \n",
    "            group_by(gender,major) %>% \n",
    "            summarise(total = n()) %>%\n",
    "            mutate(countT = sum(total)) %>%\n",
    "            group_by(gender, add=TRUE) %>%\n",
    "            mutate(percentage = paste0(round(100*total/countT,2),'%')) %>%\n",
    "            arrange(gender,total,major)\n",
    "trace <- list( marker = list(\n",
    "    color = resume_1$total,\n",
    "    colorbar = list(title = \"carat\"), \n",
    "    colorscale = list(c(0, \"#440154\"),list(0.111111111111, \"#482878\"),list(0.222222222222, \"#3E4A89\"),list(0.333333333333, \"#31688E\"),list(0.444444444444, \"#26838E\"),list(0.555555555556, \"#1F9D89\"),list(0.666666666667, \"#35B779\"),list(0.777777777778, \"#6CCE59\"),list(0.888888888889, \"#B4DD2C\"),list(1, \"#FDE725\")), \n",
    "    size = resume_1$total,\n",
    "    sizemode = \"area\"\n",
    "  ),\n",
    "  mode = \"markers\",   \n",
    "  type = \"scatter\")\n",
    "\n",
    "plot_ly() %>% add_trace(x = resume_1$gender, y = resume_1$major, \n",
    "                        marker = trace$marker, \n",
    "                        mode = trace$mode,\n",
    "                        type = trace$type)"
   ]
  },
  {
   "cell_type": "markdown",
   "metadata": {
    "_cell_guid": "a8fcea3b-8ff5-4840-8cf7-178a222edad3",
    "_uuid": "a4575840-65b2-4b1f-84eb-df08bf6d067a"
   },
   "source": [
    "![newplot%20%284%29.png](attachment:newplot%20%284%29.png)"
   ]
  },
  {
   "cell_type": "markdown",
   "metadata": {
    "_cell_guid": "b19e26d0-963f-4e2f-a0be-ab5006e2ba94",
    "_uuid": "381f61d4-fdff-4aad-807f-8eb96bdc9a14"
   },
   "source": [
    "**Conclusions**\n",
    "# \n",
    "# As shown in the differente graphic and charts, we can appreciate a growing women participation on areas of science and engineer,  we can expect to continue growing.\n",
    "# The age of most of the participants, no matter their gender, round from 25 to 29 years old; in addition, there's an important part of the population between 18 to 24 years old that are interested in data science.\n",
    "# About the major, we can appreciate a big concentration of the population participating in area of computer science, mathematics and statistics, behind them business discipline, engineering, physics and astronomy."
   ]
  }
 ],
 "metadata": {
  "kernelspec": {
   "display_name": "R",
   "language": "R",
   "name": "ir"
  },
  "language_info": {
   "codemirror_mode": "r",
   "file_extension": ".r",
   "mimetype": "text/x-r-source",
   "name": "R",
   "pygments_lexer": "r",
   "version": "3.4.2"
  }
 },
 "nbformat": 4,
 "nbformat_minor": 1
}
